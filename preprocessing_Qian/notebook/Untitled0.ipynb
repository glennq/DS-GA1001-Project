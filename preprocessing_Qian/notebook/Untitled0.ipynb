{
 "metadata": {
  "name": "",
  "signature": "sha256:af8e5d8eca3adca374bde3cd21f39d0f3b601d4757dd0ca1b3a7ef2154ab46ba"
 },
 "nbformat": 3,
 "nbformat_minor": 0,
 "worksheets": [
  {
   "cells": [
    {
     "cell_type": "code",
     "collapsed": false,
     "input": [
      "import numpy as np\n",
      "import pandas as pd"
     ],
     "language": "python",
     "metadata": {},
     "outputs": [],
     "prompt_number": 1
    },
    {
     "cell_type": "code",
     "collapsed": false,
     "input": [
      "path = \"/Users/glenn/NYUCourseProj/DS-GA1001/Data/\""
     ],
     "language": "python",
     "metadata": {},
     "outputs": [],
     "prompt_number": 20
    },
    {
     "cell_type": "code",
     "collapsed": false,
     "input": [
      "df = pd.read_csv(path + \"training.csv\", parse_dates=[2]).set_index(\"RefId\")\n",
      "df = df.dropna(axis=0, subset=[\"MMRAcquisitionAuctionAveragePrice\", \"MMRAcquisitionAuctionCleanPrice\", \\\n",
      "                                   \"MMRAcquisitionRetailAveragePrice\", \"MMRAcquisitonRetailCleanPrice\", \\\n",
      "                                   \"MMRCurrentAuctionAveragePrice\", \"MMRCurrentAuctionCleanPrice\", \\\n",
      "                                   \"MMRCurrentRetailAveragePrice\", \"MMRCurrentRetailCleanPrice\", \"Color\", \"Trim\"])"
     ],
     "language": "python",
     "metadata": {},
     "outputs": [],
     "prompt_number": 341
    },
    {
     "cell_type": "code",
     "collapsed": false,
     "input": [
      "df.shape"
     ],
     "language": "python",
     "metadata": {},
     "outputs": [
      {
       "metadata": {},
       "output_type": "pyout",
       "prompt_number": 342,
       "text": [
        "(70303, 33)"
       ]
      }
     ],
     "prompt_number": 342
    },
    {
     "cell_type": "code",
     "collapsed": false,
     "input": [
      "test2 = pd.read_csv(path + \"test.csv\", parse_dates=[\"PurchDate\"]).set_index(\"RefId\")"
     ],
     "language": "python",
     "metadata": {},
     "outputs": [],
     "prompt_number": 330
    },
    {
     "cell_type": "code",
     "collapsed": false,
     "input": [
      "def cleanVehData(fpath):\n",
      "    df = pd.read_csv(fpath, parse_dates=[\"PurchDate\"]).set_index(\"RefId\")\n",
      "    # Drop PRIMEUNIT and AUCGUART due to large number of missing values, WheelTypeID due to redundancy with WheelType\n",
      "    df = df.drop([\"PRIMEUNIT\", \"AUCGUART\", \"WheelTypeID\"], axis = 1)\n",
      "    # drop records with missing values in reference prices, Color, and Trim, which are hard to fill\n",
      "    df = df.dropna(axis=0, subset=[\"MMRAcquisitionAuctionAveragePrice\", \"MMRAcquisitionAuctionCleanPrice\", \\\n",
      "                                   \"MMRAcquisitionRetailAveragePrice\", \"MMRAcquisitonRetailCleanPrice\", \\\n",
      "                                   \"MMRCurrentAuctionAveragePrice\", \"MMRCurrentAuctionCleanPrice\", \\\n",
      "                                   \"MMRCurrentRetailAveragePrice\", \"MMRCurrentRetailCleanPrice\", \"Color\", \"Trim\"])\n",
      "    # Fill WheelType with the largest count value from vehicles with the same Model and Trim\n",
      "    for i in df[df.WheelType.isnull()].index:\n",
      "        temp = df.WheelType[(df.Model == df.Model[i]) & (df.Trim == df.Trim[i])].value_counts().index\n",
      "        if len(temp) > 0:\n",
      "            df.WheelType[i] = temp[0]\n",
      "    # Drop records with missing values in WheelType that cannot be filled with abovementioned method\n",
      "    df = df.dropna(axis=0, subset=[\"WheelType\"])\n",
      "    # Fill all other missing values with the same method described above\n",
      "    for k in range(df.shape[1]):\n",
      "        isna = df.iloc[:,k].isnull()\n",
      "        if isna.any():\n",
      "            for i in df[isna].index:\n",
      "                temp = df.iloc[:,k][(df.Model == df.Model[i]) & (df.Trim == df.Trim[i])].value_counts().index\n",
      "                if len(temp) > 0:\n",
      "                    df.iloc[:,k][i] = temp[0]\n",
      "    return df"
     ],
     "language": "python",
     "metadata": {},
     "outputs": [],
     "prompt_number": 343
    },
    {
     "cell_type": "code",
     "collapsed": false,
     "input": [
      "train = cleanVehData(path + \"training.csv\")\n",
      "test = cleanVehData(path + \"test.csv\")"
     ],
     "language": "python",
     "metadata": {},
     "outputs": [],
     "prompt_number": 344
    },
    {
     "cell_type": "code",
     "collapsed": false,
     "input": [
      "# Drop PRIMEUNIT and AUCGUART due to large number of missing values, WheelTypeID due to redundancy with WheelType\n",
      "test2 = test.drop([\"PRIMEUNIT\", \"AUCGUART\", \"WheelTypeID\"], axis = 1)\n",
      "# drop records with missing values in reference prices\n",
      "test2 = test2.dropna(axis=0, subset=[\"MMRCurrentAuctionCleanPrice\", \"Trim\", \"Color\"])\n",
      "for i in test2[test2.WheelType.isnull()].index:\n",
      "    temp = test2.WheelType[(test2.Model == test2.Model[i]) & (test2.Trim == test2.Trim[i])].value_counts().index\n",
      "    if len(temp) > 0:\n",
      "        test2.WheelType[i] = temp[0]\n"
     ],
     "language": "python",
     "metadata": {},
     "outputs": [],
     "prompt_number": 281
    },
    {
     "cell_type": "code",
     "collapsed": false,
     "input": [
      "test2 = test2.dropna(axis=0, subset=[\"WheelType\"])\n",
      "for k in range(test2.shape[1]):\n",
      "    isna = test2.iloc[:,k].isnull()\n",
      "    if isna.any():\n",
      "        for i in df2[isna].index:\n",
      "            temp = df2.iloc[:,k][(df2.Model == df2.Model[i]) & (df2.Trim == df2.Trim[i])].value_counts().index\n",
      "            if len(temp) > 0:\n",
      "                df2.iloc[:,k][i] = temp[0]"
     ],
     "language": "python",
     "metadata": {},
     "outputs": [],
     "prompt_number": 291
    },
    {
     "cell_type": "code",
     "collapsed": false,
     "input": [],
     "language": "python",
     "metadata": {},
     "outputs": []
    },
    {
     "cell_type": "code",
     "collapsed": false,
     "input": [
      "test2.SubModel[test2.SubModel.isnull()]"
     ],
     "language": "python",
     "metadata": {},
     "outputs": [
      {
       "metadata": {},
       "output_type": "pyout",
       "prompt_number": 292,
       "text": [
        "Series([], name: SubModel, dtype: object)"
       ]
      }
     ],
     "prompt_number": 292
    },
    {
     "cell_type": "code",
     "collapsed": false,
     "input": [
      "test2.PurchDate"
     ],
     "language": "python",
     "metadata": {},
     "outputs": [
      {
       "metadata": {},
       "output_type": "pyout",
       "prompt_number": 336,
       "text": [
        "RefId\n",
        "73015   2009-12-02\n",
        "73016   2009-12-02\n",
        "73017   2009-12-02\n",
        "73018   2009-12-02\n",
        "73019   2009-12-02\n",
        "73020   2009-12-02\n",
        "73021   2009-12-02\n",
        "73022   2009-12-02\n",
        "73023   2009-12-02\n",
        "73024   2009-12-02\n",
        "73025   2009-12-02\n",
        "73026   2009-12-02\n",
        "73027   2009-12-02\n",
        "73028   2009-12-02\n",
        "73029   2009-12-02\n",
        "...\n",
        "121732   2010-11-11\n",
        "121733   2010-11-11\n",
        "121734   2010-11-11\n",
        "121735   2010-11-11\n",
        "121736   2010-11-11\n",
        "121737   2010-11-11\n",
        "121738   2010-11-11\n",
        "121739   2010-11-11\n",
        "121740   2010-11-11\n",
        "121741   2010-11-11\n",
        "121742   2010-11-17\n",
        "121743   2010-11-17\n",
        "121744   2010-11-17\n",
        "121745   2010-11-17\n",
        "121746   2010-11-17\n",
        "Name: PurchDate, Length: 48707, dtype: datetime64[ns]"
       ]
      }
     ],
     "prompt_number": 336
    },
    {
     "cell_type": "code",
     "collapsed": false,
     "input": [
      "test.isnull().sum()"
     ],
     "language": "python",
     "metadata": {},
     "outputs": [
      {
       "ename": "AttributeError",
       "evalue": "'NoneType' object has no attribute 'isnull'",
       "output_type": "pyerr",
       "traceback": [
        "\u001b[0;31m---------------------------------------------------------------------------\u001b[0m\n\u001b[0;31mAttributeError\u001b[0m                            Traceback (most recent call last)",
        "\u001b[0;32m<ipython-input-321-ef99910aecfa>\u001b[0m in \u001b[0;36m<module>\u001b[0;34m()\u001b[0m\n\u001b[1;32m      1\u001b[0m \u001b[0;34m\u001b[0m\u001b[0m\n\u001b[0;32m----> 2\u001b[0;31m \u001b[0mtest\u001b[0m\u001b[0;34m.\u001b[0m\u001b[0misnull\u001b[0m\u001b[0;34m(\u001b[0m\u001b[0;34m)\u001b[0m\u001b[0;34m.\u001b[0m\u001b[0msum\u001b[0m\u001b[0;34m(\u001b[0m\u001b[0;34m)\u001b[0m\u001b[0;34m\u001b[0m\u001b[0m\n\u001b[0m",
        "\u001b[0;31mAttributeError\u001b[0m: 'NoneType' object has no attribute 'isnull'"
       ]
      }
     ],
     "prompt_number": 321
    },
    {
     "cell_type": "code",
     "collapsed": false,
     "input": [
      "test.head()"
     ],
     "language": "python",
     "metadata": {},
     "outputs": [
      {
       "html": [
        "<div style=\"max-height:1000px;max-width:1500px;overflow:auto;\">\n",
        "<table border=\"1\" class=\"dataframe\">\n",
        "  <thead>\n",
        "    <tr style=\"text-align: right;\">\n",
        "      <th></th>\n",
        "      <th>PurchDate</th>\n",
        "      <th>Auction</th>\n",
        "      <th>VehYear</th>\n",
        "      <th>VehicleAge</th>\n",
        "      <th>Make</th>\n",
        "      <th>Model</th>\n",
        "      <th>Trim</th>\n",
        "      <th>SubModel</th>\n",
        "      <th>Color</th>\n",
        "      <th>Transmission</th>\n",
        "      <th>...</th>\n",
        "      <th>MMRCurrentAuctionAveragePrice</th>\n",
        "      <th>MMRCurrentAuctionCleanPrice</th>\n",
        "      <th>MMRCurrentRetailAveragePrice</th>\n",
        "      <th>MMRCurrentRetailCleanPrice</th>\n",
        "      <th>BYRNO</th>\n",
        "      <th>VNZIP1</th>\n",
        "      <th>VNST</th>\n",
        "      <th>VehBCost</th>\n",
        "      <th>IsOnlineSale</th>\n",
        "      <th>WarrantyCost</th>\n",
        "    </tr>\n",
        "    <tr>\n",
        "      <th>RefId</th>\n",
        "      <th></th>\n",
        "      <th></th>\n",
        "      <th></th>\n",
        "      <th></th>\n",
        "      <th></th>\n",
        "      <th></th>\n",
        "      <th></th>\n",
        "      <th></th>\n",
        "      <th></th>\n",
        "      <th></th>\n",
        "      <th></th>\n",
        "      <th></th>\n",
        "      <th></th>\n",
        "      <th></th>\n",
        "      <th></th>\n",
        "      <th></th>\n",
        "      <th></th>\n",
        "      <th></th>\n",
        "      <th></th>\n",
        "      <th></th>\n",
        "      <th></th>\n",
        "    </tr>\n",
        "  </thead>\n",
        "  <tbody>\n",
        "    <tr>\n",
        "      <th>73015</th>\n",
        "      <td> 12/2/2009</td>\n",
        "      <td> ADESA</td>\n",
        "      <td> 2005</td>\n",
        "      <td> 4</td>\n",
        "      <td>   PONTIAC</td>\n",
        "      <td>     GRAND PRIX</td>\n",
        "      <td> Bas</td>\n",
        "      <td>               4D SEDAN</td>\n",
        "      <td> SILVER</td>\n",
        "      <td> AUTO</td>\n",
        "      <td>...</td>\n",
        "      <td>  4905</td>\n",
        "      <td>  6181</td>\n",
        "      <td>  8557</td>\n",
        "      <td>  9752</td>\n",
        "      <td> 18881</td>\n",
        "      <td> 30212</td>\n",
        "      <td> GA</td>\n",
        "      <td> 6500</td>\n",
        "      <td> 0</td>\n",
        "      <td> 2152</td>\n",
        "    </tr>\n",
        "    <tr>\n",
        "      <th>73016</th>\n",
        "      <td> 12/2/2009</td>\n",
        "      <td> ADESA</td>\n",
        "      <td> 2005</td>\n",
        "      <td> 4</td>\n",
        "      <td> CHEVROLET</td>\n",
        "      <td>      MALIBU V6</td>\n",
        "      <td>  LS</td>\n",
        "      <td>            4D SEDAN LS</td>\n",
        "      <td> SILVER</td>\n",
        "      <td> AUTO</td>\n",
        "      <td>...</td>\n",
        "      <td>  4645</td>\n",
        "      <td>  5710</td>\n",
        "      <td>  7562</td>\n",
        "      <td>  9296</td>\n",
        "      <td> 18111</td>\n",
        "      <td> 30212</td>\n",
        "      <td> GA</td>\n",
        "      <td> 6300</td>\n",
        "      <td> 0</td>\n",
        "      <td> 1118</td>\n",
        "    </tr>\n",
        "    <tr>\n",
        "      <th>73017</th>\n",
        "      <td> 12/2/2009</td>\n",
        "      <td> ADESA</td>\n",
        "      <td> 2006</td>\n",
        "      <td> 3</td>\n",
        "      <td>     DODGE</td>\n",
        "      <td> DURANGO 2WD V8</td>\n",
        "      <td> Adv</td>\n",
        "      <td> 4D SUV 4.7L ADVENTURER</td>\n",
        "      <td> SILVER</td>\n",
        "      <td> AUTO</td>\n",
        "      <td>...</td>\n",
        "      <td> 10883</td>\n",
        "      <td> 12166</td>\n",
        "      <td> 15340</td>\n",
        "      <td> 16512</td>\n",
        "      <td> 18111</td>\n",
        "      <td> 30212</td>\n",
        "      <td> GA</td>\n",
        "      <td> 9700</td>\n",
        "      <td> 0</td>\n",
        "      <td> 1215</td>\n",
        "    </tr>\n",
        "    <tr>\n",
        "      <th>73018</th>\n",
        "      <td> 12/2/2009</td>\n",
        "      <td> ADESA</td>\n",
        "      <td> 2002</td>\n",
        "      <td> 7</td>\n",
        "      <td>    SATURN</td>\n",
        "      <td>       L SERIES</td>\n",
        "      <td> L20</td>\n",
        "      <td>          4D SEDAN L200</td>\n",
        "      <td>   GOLD</td>\n",
        "      <td> AUTO</td>\n",
        "      <td>...</td>\n",
        "      <td>  2928</td>\n",
        "      <td>  3607</td>\n",
        "      <td>  5725</td>\n",
        "      <td>  6398</td>\n",
        "      <td> 18881</td>\n",
        "      <td> 30212</td>\n",
        "      <td> GA</td>\n",
        "      <td> 4150</td>\n",
        "      <td> 0</td>\n",
        "      <td> 1933</td>\n",
        "    </tr>\n",
        "    <tr>\n",
        "      <th>73019</th>\n",
        "      <td> 12/2/2009</td>\n",
        "      <td> ADESA</td>\n",
        "      <td> 2007</td>\n",
        "      <td> 2</td>\n",
        "      <td>   HYUNDAI</td>\n",
        "      <td>         ACCENT</td>\n",
        "      <td>  GS</td>\n",
        "      <td>            2D COUPE GS</td>\n",
        "      <td>   BLUE</td>\n",
        "      <td> AUTO</td>\n",
        "      <td>...</td>\n",
        "      <td>  5013</td>\n",
        "      <td>  6343</td>\n",
        "      <td>  5914</td>\n",
        "      <td>  7350</td>\n",
        "      <td> 18111</td>\n",
        "      <td> 30212</td>\n",
        "      <td> GA</td>\n",
        "      <td> 4100</td>\n",
        "      <td> 0</td>\n",
        "      <td>  920</td>\n",
        "    </tr>\n",
        "  </tbody>\n",
        "</table>\n",
        "<p>5 rows \u00d7 29 columns</p>\n",
        "</div>"
       ],
       "metadata": {},
       "output_type": "pyout",
       "prompt_number": 329,
       "text": [
        "       PurchDate Auction  VehYear  VehicleAge       Make           Model Trim  \\\n",
        "RefId                                                                           \n",
        "73015  12/2/2009   ADESA     2005           4    PONTIAC      GRAND PRIX  Bas   \n",
        "73016  12/2/2009   ADESA     2005           4  CHEVROLET       MALIBU V6   LS   \n",
        "73017  12/2/2009   ADESA     2006           3      DODGE  DURANGO 2WD V8  Adv   \n",
        "73018  12/2/2009   ADESA     2002           7     SATURN        L SERIES  L20   \n",
        "73019  12/2/2009   ADESA     2007           2    HYUNDAI          ACCENT   GS   \n",
        "\n",
        "                     SubModel   Color Transmission     ...       \\\n",
        "RefId                                                  ...        \n",
        "73015                4D SEDAN  SILVER         AUTO     ...        \n",
        "73016             4D SEDAN LS  SILVER         AUTO     ...        \n",
        "73017  4D SUV 4.7L ADVENTURER  SILVER         AUTO     ...        \n",
        "73018           4D SEDAN L200    GOLD         AUTO     ...        \n",
        "73019             2D COUPE GS    BLUE         AUTO     ...        \n",
        "\n",
        "      MMRCurrentAuctionAveragePrice  MMRCurrentAuctionCleanPrice  \\\n",
        "RefId                                                              \n",
        "73015                          4905                         6181   \n",
        "73016                          4645                         5710   \n",
        "73017                         10883                        12166   \n",
        "73018                          2928                         3607   \n",
        "73019                          5013                         6343   \n",
        "\n",
        "      MMRCurrentRetailAveragePrice MMRCurrentRetailCleanPrice  BYRNO  VNZIP1  \\\n",
        "RefId                                                                          \n",
        "73015                         8557                       9752  18881   30212   \n",
        "73016                         7562                       9296  18111   30212   \n",
        "73017                        15340                      16512  18111   30212   \n",
        "73018                         5725                       6398  18881   30212   \n",
        "73019                         5914                       7350  18111   30212   \n",
        "\n",
        "       VNST  VehBCost  IsOnlineSale  WarrantyCost  \n",
        "RefId                                              \n",
        "73015    GA      6500             0          2152  \n",
        "73016    GA      6300             0          1118  \n",
        "73017    GA      9700             0          1215  \n",
        "73018    GA      4150             0          1933  \n",
        "73019    GA      4100             0           920  \n",
        "\n",
        "[5 rows x 29 columns]"
       ]
      }
     ],
     "prompt_number": 329
    },
    {
     "cell_type": "code",
     "collapsed": false,
     "input": [
      "print train.shape\n",
      "print train.isnull().sum()\n",
      "print test.shape\n",
      "print test.isnull().sum()"
     ],
     "language": "python",
     "metadata": {},
     "outputs": [
      {
       "output_type": "stream",
       "stream": "stdout",
       "text": [
        "(70284, 30)\n",
        "IsBadBuy                             0\n",
        "PurchDate                            0\n",
        "Auction                              0\n",
        "VehYear                              0\n",
        "VehicleAge                           0\n",
        "Make                                 0\n",
        "Model                                0\n",
        "Trim                                 0\n",
        "SubModel                             0\n",
        "Color                                0\n",
        "Transmission                         0\n",
        "WheelType                            0\n",
        "VehOdo                               0\n",
        "Nationality                          0\n",
        "Size                                 0\n",
        "TopThreeAmericanName                 0\n",
        "MMRAcquisitionAuctionAveragePrice    0\n",
        "MMRAcquisitionAuctionCleanPrice      0\n",
        "MMRAcquisitionRetailAveragePrice     0\n",
        "MMRAcquisitonRetailCleanPrice        0\n",
        "MMRCurrentAuctionAveragePrice        0\n",
        "MMRCurrentAuctionCleanPrice          0\n",
        "MMRCurrentRetailAveragePrice         0\n",
        "MMRCurrentRetailCleanPrice           0\n",
        "BYRNO                                0\n",
        "VNZIP1                               0\n",
        "VNST                                 0\n",
        "VehBCost                             0\n",
        "IsOnlineSale                         0\n",
        "WarrantyCost                         0\n",
        "dtype: int64"
       ]
      },
      {
       "output_type": "stream",
       "stream": "stdout",
       "text": [
        "\n",
        "(46991, 29)\n",
        "PurchDate                            0\n",
        "Auction                              0\n",
        "VehYear                              0\n",
        "VehicleAge                           0\n",
        "Make                                 0\n",
        "Model                                0\n",
        "Trim                                 0\n",
        "SubModel                             0\n",
        "Color                                0\n",
        "Transmission                         0\n",
        "WheelType                            0\n",
        "VehOdo                               0\n",
        "Nationality                          0\n",
        "Size                                 0\n",
        "TopThreeAmericanName                 0\n",
        "MMRAcquisitionAuctionAveragePrice    0\n",
        "MMRAcquisitionAuctionCleanPrice      0\n",
        "MMRAcquisitionRetailAveragePrice     0\n",
        "MMRAcquisitonRetailCleanPrice        0\n",
        "MMRCurrentAuctionAveragePrice        0\n",
        "MMRCurrentAuctionCleanPrice          0\n",
        "MMRCurrentRetailAveragePrice         0\n",
        "MMRCurrentRetailCleanPrice           0\n",
        "BYRNO                                0\n",
        "VNZIP1                               0\n",
        "VNST                                 0\n",
        "VehBCost                             0\n",
        "IsOnlineSale                         0\n",
        "WarrantyCost                         0\n",
        "dtype: int64"
       ]
      },
      {
       "output_type": "stream",
       "stream": "stdout",
       "text": [
        "\n"
       ]
      }
     ],
     "prompt_number": 345
    },
    {
     "cell_type": "code",
     "collapsed": false,
     "input": [
      "df.Model[df.Trim.isnull()]"
     ],
     "language": "python",
     "metadata": {},
     "outputs": [
      {
       "metadata": {},
       "output_type": "pyout",
       "prompt_number": 165,
       "text": [
        "RefId\n",
        "18         VUE 2WD 4C\n",
        "43       PACIFICA FWD\n",
        "59       PACIFICA FWD\n",
        "70            FORENZA\n",
        "71             MAZDA5\n",
        "74            FORENZA\n",
        "86       RELAY 2WD V6\n",
        "104           FORENZA\n",
        "123           FORENZA\n",
        "140           FORENZA\n",
        "141              RENO\n",
        "157           FORENZA\n",
        "196            AMANTI\n",
        "215           FORENZA\n",
        "252           FORENZA\n",
        "...\n",
        "72800    MAZDA5 2.3L I4 MFI /\n",
        "72816     TORRENT FWD V6 3.4L\n",
        "72817     FORENZA 2.0L I4 EFI\n",
        "72842    PACIFICA FWD 3.5L V6\n",
        "72866         G35 3.5L V6 MPI\n",
        "72902    RENO 2.0L I4 DI / EF\n",
        "72922    M45 4.5L V8 MPI / SF\n",
        "72945     FORENZA 2.0L I4 EFI\n",
        "72953     FORENZA 2.0L I4 EFI\n",
        "72956        RENO 2.0L I4 EFI\n",
        "72971                 FORENZA\n",
        "72976                 MONTANA\n",
        "72983                 FORENZA\n",
        "72987                 FORENZA\n",
        "72988                 FORENZA\n",
        "Name: Model, Length: 2360, dtype: object"
       ]
      }
     ],
     "prompt_number": 165
    },
    {
     "cell_type": "code",
     "collapsed": false,
     "input": [
      "df2[[\"TopThreeAmericanName\", \"Trim\"]][df.Model == 'PATRIOT 2WD 4C']"
     ],
     "language": "python",
     "metadata": {},
     "outputs": [
      {
       "html": [
        "<div style=\"max-height:1000px;max-width:1500px;overflow:auto;\">\n",
        "<table border=\"1\" class=\"dataframe\">\n",
        "  <thead>\n",
        "    <tr style=\"text-align: right;\">\n",
        "      <th></th>\n",
        "      <th>TopThreeAmericanName</th>\n",
        "      <th>Trim</th>\n",
        "    </tr>\n",
        "    <tr>\n",
        "      <th>RefId</th>\n",
        "      <th></th>\n",
        "      <th></th>\n",
        "    </tr>\n",
        "  </thead>\n",
        "  <tbody>\n",
        "    <tr>\n",
        "      <th>917  </th>\n",
        "      <td> CHRYSLER</td>\n",
        "      <td> Spo</td>\n",
        "    </tr>\n",
        "    <tr>\n",
        "      <th>16865</th>\n",
        "      <td> CHRYSLER</td>\n",
        "      <td> Spo</td>\n",
        "    </tr>\n",
        "    <tr>\n",
        "      <th>44594</th>\n",
        "      <td> CHRYSLER</td>\n",
        "      <td> Spo</td>\n",
        "    </tr>\n",
        "    <tr>\n",
        "      <th>55104</th>\n",
        "      <td> CHRYSLER</td>\n",
        "      <td> Spo</td>\n",
        "    </tr>\n",
        "    <tr>\n",
        "      <th>63298</th>\n",
        "      <td> CHRYSLER</td>\n",
        "      <td> Spo</td>\n",
        "    </tr>\n",
        "    <tr>\n",
        "      <th>69990</th>\n",
        "      <td>      NaN</td>\n",
        "      <td> Spo</td>\n",
        "    </tr>\n",
        "    <tr>\n",
        "      <th>70254</th>\n",
        "      <td> CHRYSLER</td>\n",
        "      <td> Spo</td>\n",
        "    </tr>\n",
        "  </tbody>\n",
        "</table>\n",
        "</div>"
       ],
       "metadata": {},
       "output_type": "pyout",
       "prompt_number": 305,
       "text": [
        "      TopThreeAmericanName Trim\n",
        "RefId                          \n",
        "917               CHRYSLER  Spo\n",
        "16865             CHRYSLER  Spo\n",
        "44594             CHRYSLER  Spo\n",
        "55104             CHRYSLER  Spo\n",
        "63298             CHRYSLER  Spo\n",
        "69990                  NaN  Spo\n",
        "70254             CHRYSLER  Spo"
       ]
      }
     ],
     "prompt_number": 305
    },
    {
     "cell_type": "code",
     "collapsed": false,
     "input": [
      "# Drop PRIMEUNIT and AUCGUART due to large number of missing values, WheelTypeID due to redundancy with WheelType\n",
      "df2 = df.drop([\"PRIMEUNIT\", \"AUCGUART\", \"WheelTypeID\"], axis = 1)\n",
      "# drop records with missing values in reference prices\n",
      "df2 = df2.dropna(axis=0, subset=[\"MMRCurrentAuctionCleanPrice\", \"Color\", \"Trim\"])\n",
      "for i in df2[df2.WheelType.isnull()].index:\n",
      "    temp = df2.WheelType[(df2.Model == df2.Model[i]) & (df2.Trim == df2.Trim[i])].value_counts().index\n",
      "    if len(temp) > 0:\n",
      "        df2.WheelType[i] = temp[0]\n",
      "        \n",
      "\n",
      "        \n"
     ],
     "language": "python",
     "metadata": {},
     "outputs": [],
     "prompt_number": 267
    },
    {
     "cell_type": "code",
     "collapsed": false,
     "input": [
      "df2 = df2.dropna(axis=0, subset=[\"WheelType\"])\n",
      "for k in range(df2.shape[1]):\n",
      "    isna = df2.iloc[:,k].isnull()\n",
      "    if isna.any():\n",
      "        for i in df2[isna].index:\n",
      "            temp = df2.iloc[:,k][(df2.Model == df2.Model[i]) & (df2.Trim == df2.Trim[i])].value_counts().index\n",
      "            if len(temp) > 0:\n",
      "                df2.iloc[:,k][i] = temp[0]\n"
     ],
     "language": "python",
     "metadata": {},
     "outputs": [],
     "prompt_number": 315
    },
    {
     "cell_type": "code",
     "collapsed": false,
     "input": [
      "x =df2.iloc[:,10].isnull()\n",
      "df2.iloc[:, 10][42]"
     ],
     "language": "python",
     "metadata": {},
     "outputs": [
      {
       "metadata": {},
       "output_type": "pyout",
       "prompt_number": 313,
       "text": [
        "'AUTO'"
       ]
      }
     ],
     "prompt_number": 313
    },
    {
     "cell_type": "code",
     "collapsed": false,
     "input": [
      "df2.WheelType[(df2.Model == \"RONDO 4C 2.4L I4 DI\")].value_counts()"
     ],
     "language": "python",
     "metadata": {},
     "outputs": [
      {
       "metadata": {},
       "output_type": "pyout",
       "prompt_number": 278,
       "text": [
        "Series([], dtype: int64)"
       ]
      }
     ],
     "prompt_number": 278
    },
    {
     "cell_type": "code",
     "collapsed": false,
     "input": [
      "print df.shape\n",
      "print df2.shape"
     ],
     "language": "python",
     "metadata": {},
     "outputs": [
      {
       "output_type": "stream",
       "stream": "stdout",
       "text": [
        "(72983, 33)\n",
        "(72668, 30)\n"
       ]
      }
     ],
     "prompt_number": 163
    },
    {
     "cell_type": "code",
     "collapsed": false,
     "input": [
      "df2.WheelTypeID"
     ],
     "language": "python",
     "metadata": {},
     "outputs": [
      {
       "metadata": {},
       "output_type": "pyout",
       "prompt_number": 161,
       "text": [
        "RefId\n",
        "1        1\n",
        "2        1\n",
        "3        2\n",
        "4        1\n",
        "5        2\n",
        "6        2\n",
        "7        2\n",
        "8        2\n",
        "9        2\n",
        "10       1\n",
        "11       1\n",
        "12       1\n",
        "13       1\n",
        "14       2\n",
        "15       1\n",
        "...\n",
        "73000     2\n",
        "73001     2\n",
        "73002     1\n",
        "73003     2\n",
        "73004     2\n",
        "73005     2\n",
        "73006     1\n",
        "73007     1\n",
        "73008     1\n",
        "73009     1\n",
        "73010     1\n",
        "73011   NaN\n",
        "73012     1\n",
        "73013     1\n",
        "73014     1\n",
        "Name: WheelTypeID, Length: 72668, dtype: float64"
       ]
      }
     ],
     "prompt_number": 161
    },
    {
     "cell_type": "code",
     "collapsed": false,
     "input": [],
     "language": "python",
     "metadata": {},
     "outputs": []
    }
   ],
   "metadata": {}
  }
 ]
}